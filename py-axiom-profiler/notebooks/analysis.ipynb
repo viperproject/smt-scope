{
 "cells": [
  {
   "cell_type": "markdown",
   "metadata": {},
   "source": [
    "# Branching log analysis\n",
    "\n",
    "In this Jupyter notebook we investigate what lead to the repeated instantiations terms."
   ]
  },
  {
   "cell_type": "code",
   "execution_count": null,
   "metadata": {},
   "outputs": [],
   "source": [
    "import axiom_profiler\n",
    "parser = axiom_profiler.Parser('../z3-4.log')"
   ]
  },
  {
   "cell_type": "markdown",
   "metadata": {},
   "source": [
    "## Compute the duplicated terms"
   ]
  },
  {
   "cell_type": "code",
   "execution_count": null,
   "metadata": {},
   "outputs": [],
   "source": [
    "parser.initialise_repeated_instantiations()\n",
    "duplicated_terms = parser.get_duplicated_terms()\n",
    "duplicated_terms.sort()\n",
    "print(\"Most common duplicated terms:\")\n",
    "for (count, term) in reversed(duplicated_terms[-100:]):\n",
    "    print(count, term[:100])"
   ]
  },
  {
   "cell_type": "markdown",
   "metadata": {},
   "source": [
    "## Investigate the most common term"
   ]
  },
  {
   "cell_type": "code",
   "execution_count": null,
   "metadata": {},
   "outputs": [],
   "source": [
    "%pip install graphviz"
   ]
  },
  {
   "cell_type": "code",
   "execution_count": null,
   "metadata": {},
   "outputs": [],
   "source": [
    "instantiations = parser.get_instantiations_for_term(duplicated_terms[-8][1])\n",
    "print(len(instantiations))"
   ]
  },
  {
   "cell_type": "code",
   "execution_count": null,
   "metadata": {},
   "outputs": [],
   "source": [
    "# Just pick the first one.\n",
    "instantiation = instantiations[0]"
   ]
  },
  {
   "cell_type": "code",
   "execution_count": null,
   "metadata": {},
   "outputs": [],
   "source": [
    "from graphviz import Digraph\n",
    "from IPython.display import display\n",
    "\n",
    "def render_dependencies(root_instantiation, max_depth=3, max_term_length=100):\n",
    "    dot = Digraph()\n",
    "    dot.node(str(root_instantiation))\n",
    "\n",
    "    def walk(instantiation, current_depth):\n",
    "        if current_depth >= max_depth:\n",
    "            return\n",
    "        offset = \"  \" * current_depth\n",
    "        dot.node(str(instantiation))\n",
    "        resulting_term = parser.render_instantiation_resulting_term(instantiation)\n",
    "        print(offset + str(instantiation), resulting_term[:max_term_length])\n",
    "        match = parser.get_instantiation_match(instantiation)\n",
    "        blamed_report = parser.get_blamed_for_match(match)\n",
    "        blamed_terms = blamed_report.get_blamed_terms()\n",
    "        blamed_equalities = blamed_report.get_blamed_equalities()\n",
    "        for blamed_term in blamed_terms + blamed_equalities:\n",
    "            print(offset + \"  \" + parser.render_blamed_term(blamed_term))\n",
    "            if blamed_term.has_created_by():\n",
    "                print(offset + \"    created by \", blamed_term.get_created_by())\n",
    "                walk(blamed_term.get_created_by(), current_depth+1)\n",
    "                dot.edge(str(instantiation), str(blamed_term.get_created_by()))\n",
    "            else:\n",
    "                print(offset + \"    no created by \")\n",
    "\n",
    "    walk(root_instantiation, 0)\n",
    "\n",
    "    # Display the graph within the notebook\n",
    "    display(dot)\n"
   ]
  },
  {
   "cell_type": "code",
   "execution_count": null,
   "metadata": {},
   "outputs": [],
   "source": [
    "render_dependencies(instantiation, max_depth=5, max_term_length=10000)"
   ]
  }
 ],
 "metadata": {
  "kernelspec": {
   "display_name": ".venv",
   "language": "python",
   "name": "python3"
  },
  "language_info": {
   "codemirror_mode": {
    "name": "ipython",
    "version": 3
   },
   "file_extension": ".py",
   "mimetype": "text/x-python",
   "name": "python",
   "nbconvert_exporter": "python",
   "pygments_lexer": "ipython3",
   "version": "3.11.6"
  }
 },
 "nbformat": 4,
 "nbformat_minor": 2
}
